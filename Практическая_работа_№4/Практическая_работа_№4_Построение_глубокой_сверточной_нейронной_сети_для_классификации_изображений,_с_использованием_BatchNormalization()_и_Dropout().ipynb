{
  "nbformat": 4,
  "nbformat_minor": 0,
  "metadata": {
    "colab": {
      "provenance": [],
      "gpuType": "T4",
      "include_colab_link": true
    },
    "kernelspec": {
      "name": "python3",
      "display_name": "Python 3"
    },
    "language_info": {
      "name": "python"
    },
    "accelerator": "GPU"
  },
  "cells": [
    {
      "cell_type": "markdown",
      "metadata": {
        "id": "view-in-github",
        "colab_type": "text"
      },
      "source": [
        "<a href=\"https://colab.research.google.com/github/mixa15341/Deep_Learning/blob/main/%D0%9F%D1%80%D0%B0%D0%BA%D1%82%D0%B8%D1%87%D0%B5%D1%81%D0%BA%D0%B0%D1%8F_%D1%80%D0%B0%D0%B1%D0%BE%D1%82%D0%B0_%E2%84%964/%D0%9F%D1%80%D0%B0%D0%BA%D1%82%D0%B8%D1%87%D0%B5%D1%81%D0%BA%D0%B0%D1%8F_%D1%80%D0%B0%D0%B1%D0%BE%D1%82%D0%B0_%E2%84%964_%D0%9F%D0%BE%D1%81%D1%82%D1%80%D0%BE%D0%B5%D0%BD%D0%B8%D0%B5_%D0%B3%D0%BB%D1%83%D0%B1%D0%BE%D0%BA%D0%BE%D0%B9_%D1%81%D0%B2%D0%B5%D1%80%D1%82%D0%BE%D1%87%D0%BD%D0%BE%D0%B9_%D0%BD%D0%B5%D0%B9%D1%80%D0%BE%D0%BD%D0%BD%D0%BE%D0%B9_%D1%81%D0%B5%D1%82%D0%B8_%D0%B4%D0%BB%D1%8F_%D0%BA%D0%BB%D0%B0%D1%81%D1%81%D0%B8%D1%84%D0%B8%D0%BA%D0%B0%D1%86%D0%B8%D0%B8_%D0%B8%D0%B7%D0%BE%D0%B1%D1%80%D0%B0%D0%B6%D0%B5%D0%BD%D0%B8%D0%B9%2C_%D1%81_%D0%B8%D1%81%D0%BF%D0%BE%D0%BB%D1%8C%D0%B7%D0%BE%D0%B2%D0%B0%D0%BD%D0%B8%D0%B5%D0%BC_BatchNormalization()_%D0%B8_Dropout().ipynb\" target=\"_parent\"><img src=\"https://colab.research.google.com/assets/colab-badge.svg\" alt=\"Open In Colab\"/></a>"
      ]
    },
    {
      "cell_type": "markdown",
      "source": [
        "# Практическая работа №4. Построение сверточной нейронной сети для классификации изображений, с использованием BatchNormalization() и Dropout()"
      ],
      "metadata": {
        "id": "5FTzd6Tr1HE6"
      }
    },
    {
      "cell_type": "markdown",
      "source": [
        "[Код с пары](https://colab.research.google.com/drive/1cvPrPI09ySQy-D92gKTzmanVi2cj5Gw_?usp=sharing)"
      ],
      "metadata": {
        "id": "gdX9a26i5B-4"
      }
    },
    {
      "cell_type": "markdown",
      "source": [
        "## Задание 1. Построение сверточной нейронной сети для классификации изображений из датасета CIFAR-100, с использованием BatchNormalization() и Dropout():"
      ],
      "metadata": {
        "id": "2p4UprMpnLch"
      }
    },
    {
      "cell_type": "markdown",
      "source": [
        "### 1.1. Загрузите исходный датасет. Разделите его на обучающую и тестовую выборки:\n",
        "\n",
        "*P.S.: Не забудьте обратить внимание на размерность (shape) исходных данных и при необходимости измените её (см. примеры из предыдущих занятий)*\n",
        "\n",
        "[Информация о датасете в Kaggle](https://www.kaggle.com/datasets/fedesoriano/cifar100?resource=download&select=meta)\n",
        "\n",
        "[Техническая документация по использованию датасета в Keras](https://keras.io/api/datasets/cifar100/)\n",
        "\n",
        "\n",
        "\n"
      ],
      "metadata": {
        "id": "PegOFe6t0NPk"
      }
    },
    {
      "cell_type": "code",
      "execution_count": 12,
      "metadata": {
        "id": "SSerkZhqz-Zu"
      },
      "outputs": [],
      "source": [
        "import numpy\n",
        "import matplotlib.pyplot as plt\n",
        "import cv2\n",
        "from google.colab.patches import cv2_imshow\n",
        "import keras\n",
        "import tensorflow as tf\n",
        "from keras.models import Sequential\n",
        "from keras.layers import Dense,Dropout,Flatten,Conv2D,MaxPooling2D\n",
        "from keras.layers import BatchNormalization\n",
        "from keras.optimizers import SGD\n",
        "from keras.utils import to_categorical\n",
        "from keras import backend as K"
      ]
    },
    {
      "cell_type": "code",
      "source": [
        "(x_train, y_train), (x_test, y_test) = keras.datasets.cifar100.load_data()"
      ],
      "metadata": {
        "id": "K6JMUjbTWtwS",
        "outputId": "c02a0dd9-b20c-49ed-d76b-6a89c5177b2b",
        "colab": {
          "base_uri": "https://localhost:8080/"
        }
      },
      "execution_count": 2,
      "outputs": [
        {
          "output_type": "stream",
          "name": "stdout",
          "text": [
            "Downloading data from https://www.cs.toronto.edu/~kriz/cifar-100-python.tar.gz\n",
            "169001437/169001437 [==============================] - 3s 0us/step\n"
          ]
        }
      ]
    },
    {
      "cell_type": "markdown",
      "source": [
        "### 1.2. Визуализируйте несколько изображений из датасета:\n"
      ],
      "metadata": {
        "id": "RoGjUIWMneVq"
      }
    },
    {
      "cell_type": "code",
      "source": [
        "for i in range(1, 10):\n",
        "    cv2_imshow(x_train[i])"
      ],
      "metadata": {
        "id": "zp4Q9ABUnstt",
        "outputId": "5031efe9-7dbd-4b14-c065-d6487a033832",
        "colab": {
          "base_uri": "https://localhost:8080/",
          "height": 0
        }
      },
      "execution_count": 3,
      "outputs": [
        {
          "output_type": "display_data",
          "data": {
            "text/plain": [
              "<PIL.Image.Image image mode=RGB size=32x32>"
            ],
            "image/png": "[encoded data removed]"
          },
          "metadata": {}
        },
        {
          "output_type": "display_data",
          "data": {
            "text/plain": [
              "<PIL.Image.Image image mode=RGB size=32x32>"
            ],
            "image/png": "[encoded data removed]"
          },
          "metadata": {}
        },
        {
          "output_type": "display_data",
          "data": {
            "text/plain": [
              "<PIL.Image.Image image mode=RGB size=32x32>"
            ],
            "image/png": "[encoded data removed]"
          },
          "metadata": {}
        },
        {
          "output_type": "display_data",
          "data": {
            "text/plain": [
              "<PIL.Image.Image image mode=RGB size=32x32>"
            ],
            "image/png": "[encoded data removed]"
          },
          "metadata": {}
        },
        {
          "output_type": "display_data",
          "data": {
            "text/plain": [
              "<PIL.Image.Image image mode=RGB size=32x32>"
            ],
            "image/png": "[encoded data removed]"
          },
          "metadata": {}
        },
        {
          "output_type": "display_data",
          "data": {
            "text/plain": [
              "<PIL.Image.Image image mode=RGB size=32x32>"
            ],
            "image/png": "[encoded data removed]"
          },
          "metadata": {}
        },
        {
          "output_type": "display_data",
          "data": {
            "text/plain": [
              "<PIL.Image.Image image mode=RGB size=32x32>"
            ],
            "image/png": "[encoded data removed]"
          },
          "metadata": {}
        },
        {
          "output_type": "display_data",
          "data": {
            "text/plain": [
              "<PIL.Image.Image image mode=RGB size=32x32>"
            ],
            "image/png": "[encoded data removed]"
          },
          "metadata": {}
        },
        {
          "output_type": "display_data",
          "data": {
            "text/plain": [
              "<PIL.Image.Image image mode=RGB size=32x32>"
            ],
            "image/png": "[encoded data removed]"
          },
          "metadata": {}
        }
      ]
    },
    {
      "cell_type": "markdown",
      "source": [
        "### 1.3. Произведите нормализацию данных:"
      ],
      "metadata": {
        "id": "2l5xhJ7-ns-c"
      }
    },
    {
      "cell_type": "code",
      "execution_count": 4,
      "metadata": {
        "colab": {
          "base_uri": "https://localhost:8080/"
        },
        "id": "Cc7ckIv8w_7R",
        "outputId": "7440e27a-893f-4d37-ec59-6f4d19f3540b"
      },
      "outputs": [
        {
          "output_type": "execute_result",
          "data": {
            "text/plain": [
              "(50000, 32, 32, 3)"
            ]
          },
          "metadata": {},
          "execution_count": 4
        }
      ],
      "source": [
        "x_train.shape"
      ]
    },
    {
      "cell_type": "code",
      "execution_count": 5,
      "metadata": {
        "id": "z2ub_hyQxAQX"
      },
      "outputs": [],
      "source": [
        "x_train = x_train / 255.0\n",
        "x_test = x_test / 255.0\n",
        "\n",
        "# Convert labels to categorical one-hot encoding\n",
        "y_train = keras.utils.to_categorical(y_train, 100)\n",
        "y_test = keras.utils.to_categorical(y_test, 100)"
      ]
    },
    {
      "cell_type": "markdown",
      "source": [
        "### 1.4. Создайте модель сверточной нейронной сети для решения поставленной задачи без использования BatchNormalization() и Dropout():\n",
        "\n",
        "Имя данной модели: model_1"
      ],
      "metadata": {
        "id": "ne7OBLid0NY-"
      }
    },
    {
      "cell_type": "code",
      "execution_count": 9,
      "metadata": {
        "id": "4rxGjAfpyMa3"
      },
      "outputs": [],
      "source": [
        "# Create a sequential model\n",
        "model_1 = Sequential()\n",
        "\n",
        "# Add convolutional layers\n",
        "model_1.add(Conv2D(32, (3, 3), padding='same', activation='relu', input_shape=(32, 32, 3)))\n",
        "model_1.add(Conv2D(32, (3, 3), activation='relu'))\n",
        "model_1.add(MaxPooling2D(pool_size=(2, 2)))\n",
        "\n",
        "model_1.add(Conv2D(64, (3, 3), padding='same', activation='relu'))\n",
        "model_1.add(Conv2D(64, (3, 3), activation='relu'))\n",
        "model_1.add(MaxPooling2D(pool_size=(2, 2)))\n",
        "\n",
        "# Flatten the feature maps\n",
        "model_1.add(Flatten())\n",
        "\n",
        "# Add fully connected layers\n",
        "model_1.add(Dense(512, activation='relu'))\n",
        "model_1.add(Dense(100, activation='softmax'))\n",
        "model_1.compile(\n",
        "  optimizer='adam',\n",
        "  loss='categorical_crossentropy',\n",
        "  metrics=['accuracy']\n",
        ")"
      ]
    },
    {
      "cell_type": "code",
      "source": [
        "batch_size = 128\n",
        "epochs = 5"
      ],
      "metadata": {
        "id": "zk-As-iDaDNh"
      },
      "execution_count": 7,
      "outputs": []
    },
    {
      "cell_type": "code",
      "source": [
        "model_1_history = model_1.fit(x_train, y_train,\n",
        "                              batch_size=batch_size,\n",
        "                              epochs=epochs,\n",
        "                              verbose=1,\n",
        "                              validation_data=(x_test, y_test))"
      ],
      "metadata": {
        "id": "gEhIZ0NuaEQp",
        "outputId": "be01e487-c3c4-46d8-aa7e-52e84c6be41b",
        "colab": {
          "base_uri": "https://localhost:8080/"
        }
      },
      "execution_count": 10,
      "outputs": [
        {
          "output_type": "stream",
          "name": "stdout",
          "text": [
            "Epoch 1/5\n",
            "391/391 [==============================] - 8s 17ms/step - loss: 3.7061 - accuracy: 0.1404 - val_loss: 3.1548 - val_accuracy: 0.2314\n",
            "Epoch 2/5\n",
            "391/391 [==============================] - 6s 16ms/step - loss: 2.8764 - accuracy: 0.2875 - val_loss: 2.7335 - val_accuracy: 0.3247\n",
            "Epoch 3/5\n",
            "391/391 [==============================] - 4s 10ms/step - loss: 2.4547 - accuracy: 0.3733 - val_loss: 2.5388 - val_accuracy: 0.3578\n",
            "Epoch 4/5\n",
            "391/391 [==============================] - 6s 15ms/step - loss: 2.1278 - accuracy: 0.4444 - val_loss: 2.4511 - val_accuracy: 0.3818\n",
            "Epoch 5/5\n",
            "391/391 [==============================] - 6s 14ms/step - loss: 1.8448 - accuracy: 0.5067 - val_loss: 2.4363 - val_accuracy: 0.3968\n"
          ]
        }
      ]
    },
    {
      "cell_type": "markdown",
      "source": [
        "Обучите созданную модель"
      ],
      "metadata": {
        "id": "69zrqqaA5kOd"
      }
    },
    {
      "cell_type": "code",
      "source": [
        "# Ваш код #"
      ],
      "metadata": {
        "id": "6uBAnPDU5s5I"
      },
      "execution_count": null,
      "outputs": []
    },
    {
      "cell_type": "markdown",
      "source": [
        "### 1.5. Создайте модель сверточной нейронной сети для решения поставленной задачи с использованием BatchNormalization():\n",
        "\n",
        "Имя данной модели: model_2"
      ],
      "metadata": {
        "id": "07x5ciPl0Njy"
      }
    },
    {
      "cell_type": "code",
      "source": [
        "# Create a sequential model\n",
        "model_2 = Sequential()\n",
        "\n",
        "# Add convolutional layers\n",
        "model_2.add(Conv2D(32, (3, 3), padding='same', activation='relu', input_shape=(32, 32, 3)))\n",
        "model_2.add(Conv2D(32, (3, 3), activation='relu'))\n",
        "model_2.add(MaxPooling2D(pool_size=(2, 2)))\n",
        "\n",
        "model_2.add(Conv2D(64, (3, 3), padding='same', activation='relu'))\n",
        "model_2.add(Conv2D(64, (3, 3), activation='relu'))\n",
        "model_2.add(MaxPooling2D(pool_size=(2, 2)))\n",
        "\n",
        "# Flatten the feature maps\n",
        "model_2.add(Flatten())\n",
        "\n",
        "# Add fully connected layers\n",
        "model_2.add(BatchNormalization())\n",
        "model_2.add(Dense(512, activation='relu'))\n",
        "model_2.add(BatchNormalization())\n",
        "model_2.add(Dense(100, activation='softmax'))\n",
        "model_2.compile(\n",
        "  optimizer='adam',\n",
        "  loss='categorical_crossentropy',\n",
        "  metrics=['accuracy']\n",
        ")"
      ],
      "metadata": {
        "id": "vy9H9gcJ3kzl"
      },
      "execution_count": 13,
      "outputs": []
    },
    {
      "cell_type": "code",
      "source": [
        "model_2_history = model_2.fit(x_train, y_train,\n",
        "                              batch_size=batch_size,\n",
        "                              epochs=epochs,\n",
        "                              verbose=1,\n",
        "                              validation_data=(x_test, y_test))"
      ],
      "metadata": {
        "id": "bYLtan4lkAQy",
        "outputId": "2a7dad4c-8d41-4cde-c866-6cd222b72dff",
        "colab": {
          "base_uri": "https://localhost:8080/"
        }
      },
      "execution_count": 15,
      "outputs": [
        {
          "output_type": "stream",
          "name": "stdout",
          "text": [
            "Epoch 1/5\n",
            "391/391 [==============================] - 8s 13ms/step - loss: 3.4205 - accuracy: 0.2056 - val_loss: 3.4013 - val_accuracy: 0.2067\n",
            "Epoch 2/5\n",
            "391/391 [==============================] - 5s 13ms/step - loss: 2.4789 - accuracy: 0.3765 - val_loss: 2.6179 - val_accuracy: 0.3532\n",
            "Epoch 3/5\n",
            "391/391 [==============================] - 5s 12ms/step - loss: 1.9649 - accuracy: 0.4868 - val_loss: 2.5650 - val_accuracy: 0.3811\n",
            "Epoch 4/5\n",
            "391/391 [==============================] - 6s 16ms/step - loss: 1.5740 - accuracy: 0.5780 - val_loss: 2.4478 - val_accuracy: 0.4125\n",
            "Epoch 5/5\n",
            "391/391 [==============================] - 6s 14ms/step - loss: 1.2168 - accuracy: 0.6699 - val_loss: 2.7177 - val_accuracy: 0.3943\n"
          ]
        }
      ]
    },
    {
      "cell_type": "markdown",
      "source": [
        "Обучите созданную модель"
      ],
      "metadata": {
        "id": "7vrswF436DNo"
      }
    },
    {
      "cell_type": "code",
      "source": [
        "# Ваш код #"
      ],
      "metadata": {
        "id": "2xOOok5l6DNo"
      },
      "execution_count": null,
      "outputs": []
    },
    {
      "cell_type": "markdown",
      "source": [
        "### 1.6. Создайте модель сверточной нейронной сети для решения поставленной задачи с использованием Dropout():\n",
        "\n",
        "Имя данной модели: model_3"
      ],
      "metadata": {
        "id": "386TvloP3lJF"
      }
    },
    {
      "cell_type": "code",
      "source": [
        "# Create a sequential model\n",
        "model_3 = Sequential()\n",
        "\n",
        "# Add convolutional layers\n",
        "model_3.add(Conv2D(32, (3, 3), padding='same', activation='relu', input_shape=(32, 32, 3)))\n",
        "model_3.add(Conv2D(32, (3, 3), activation='relu'))\n",
        "model_3.add(MaxPooling2D(pool_size=(2, 2)))\n",
        "model_3.add(Dropout(0.25))\n",
        "\n",
        "model_3.add(Conv2D(64, (3, 3), padding='same', activation='relu'))\n",
        "model_3.add(Conv2D(64, (3, 3), activation='relu'))\n",
        "model_3.add(MaxPooling2D(pool_size=(2, 2)))\n",
        "model_3.add(Dropout(0.25))\n",
        "\n",
        "# Flatten the feature maps\n",
        "model_3.add(Flatten())\n",
        "\n",
        "# Add fully connected layers\n",
        "model_3.add(Dense(512, activation='relu'))\n",
        "model_3.add(Dropout(0.5))\n",
        "model_3.add(Dense(100, activation='softmax'))\n",
        "model_3.compile(\n",
        "  optimizer='adam',\n",
        "  loss='categorical_crossentropy',\n",
        "  metrics=['accuracy']\n",
        ")"
      ],
      "metadata": {
        "id": "e-tkmz9d3lXx"
      },
      "execution_count": 23,
      "outputs": []
    },
    {
      "cell_type": "markdown",
      "source": [
        "Обучите созданную модель"
      ],
      "metadata": {
        "id": "hehT-6re6RXv"
      }
    },
    {
      "cell_type": "code",
      "source": [
        "model_3_history = model_3.fit(x_train, y_train,\n",
        "                              batch_size=batch_size,\n",
        "                              epochs=epochs,\n",
        "                              verbose=1,\n",
        "                              validation_data=(x_test, y_test))"
      ],
      "metadata": {
        "id": "c6HNFpOE6RXw",
        "outputId": "118caef2-1c55-48f8-ba63-4c42f55626b3",
        "colab": {
          "base_uri": "https://localhost:8080/"
        }
      },
      "execution_count": 21,
      "outputs": [
        {
          "output_type": "stream",
          "name": "stdout",
          "text": [
            "Epoch 1/5\n",
            "391/391 [==============================] - 8s 16ms/step - loss: 4.1094 - accuracy: 0.0718 - val_loss: 3.4965 - val_accuracy: 0.1722\n",
            "Epoch 2/5\n",
            "391/391 [==============================] - 5s 14ms/step - loss: 3.4235 - accuracy: 0.1807 - val_loss: 3.0654 - val_accuracy: 0.2630\n",
            "Epoch 3/5\n",
            "391/391 [==============================] - 6s 16ms/step - loss: 3.0730 - accuracy: 0.2459 - val_loss: 2.7608 - val_accuracy: 0.3164\n",
            "Epoch 4/5\n",
            "391/391 [==============================] - 7s 17ms/step - loss: 2.8424 - accuracy: 0.2882 - val_loss: 2.6226 - val_accuracy: 0.3413\n",
            "Epoch 5/5\n",
            "391/391 [==============================] - 7s 17ms/step - loss: 2.6756 - accuracy: 0.3216 - val_loss: 2.4691 - val_accuracy: 0.3697\n"
          ]
        }
      ]
    },
    {
      "cell_type": "markdown",
      "source": [
        "### 1.7. Создайте модель сверточной нейронной сети для решения поставленной задачи с использованием Dropout() и BatchNormalization().\n",
        "\n",
        "См. рекомендации [здесь](https://stackoverflow.com/questions/39691902/ordering-of-batch-normalization-and-dropout) и [здесь](https://www.kaggle.com/code/ryanholbrook/dropout-and-batch-normalization/)\n",
        "\n",
        "Имя данной модели: model_4"
      ],
      "metadata": {
        "id": "qz2qhKtu7Jgf"
      }
    },
    {
      "cell_type": "code",
      "source": [
        "# Create a sequential model\n",
        "model_4 = Sequential()\n",
        "\n",
        "# Add convolutional layers\n",
        "model_4.add(Conv2D(32, (3, 3), padding='same', activation='relu', input_shape=(32, 32, 3)))\n",
        "model_4.add(Conv2D(32, (3, 3), activation='relu'))\n",
        "model_4.add(MaxPooling2D(pool_size=(2, 2)))\n",
        "model_4.add(Dropout(0.25))\n",
        "\n",
        "model_4.add(Conv2D(64, (3, 3), padding='same', activation='relu'))\n",
        "model_4.add(Conv2D(64, (3, 3), activation='relu'))\n",
        "model_4.add(MaxPooling2D(pool_size=(2, 2)))\n",
        "model_4.add(Dropout(0.25))\n",
        "\n",
        "# Flatten the feature maps\n",
        "model_4.add(Flatten())\n",
        "\n",
        "# Add fully connected layers\n",
        "model_4.add(BatchNormalization())\n",
        "model_4.add(Dense(512, activation='relu'))\n",
        "model_4.add(Dropout(0.5))\n",
        "model_4.add(BatchNormalization())\n",
        "model_4.add(Dense(100, activation='softmax'))\n",
        "model_4.compile(\n",
        "  optimizer='adam',\n",
        "  loss='categorical_crossentropy',\n",
        "  metrics=['accuracy']\n",
        ")"
      ],
      "metadata": {
        "id": "dVuNM8lI7Jgo"
      },
      "execution_count": 24,
      "outputs": []
    },
    {
      "cell_type": "markdown",
      "source": [
        "Обучите созданную модель"
      ],
      "metadata": {
        "id": "nES6ENxq7Jgp"
      }
    },
    {
      "cell_type": "code",
      "source": [
        "model_4_history = model_4.fit(x_train, y_train,\n",
        "                              batch_size=batch_size,\n",
        "                              epochs=epochs,\n",
        "                              verbose=1,\n",
        "                              validation_data=(x_test, y_test))"
      ],
      "metadata": {
        "id": "SWIPC22-7Jgp",
        "outputId": "19ab51b3-6539-472a-8286-b1b6c5c8f3e6",
        "colab": {
          "base_uri": "https://localhost:8080/"
        }
      },
      "execution_count": 26,
      "outputs": [
        {
          "output_type": "stream",
          "name": "stdout",
          "text": [
            "Epoch 1/5\n",
            "391/391 [==============================] - 9s 16ms/step - loss: 4.1257 - accuracy: 0.0946 - val_loss: 3.8007 - val_accuracy: 0.1300\n",
            "Epoch 2/5\n",
            "391/391 [==============================] - 6s 14ms/step - loss: 3.3024 - accuracy: 0.2091 - val_loss: 2.9148 - val_accuracy: 0.2797\n",
            "Epoch 3/5\n",
            "391/391 [==============================] - 6s 15ms/step - loss: 2.9180 - accuracy: 0.2800 - val_loss: 2.7010 - val_accuracy: 0.3321\n",
            "Epoch 4/5\n",
            "391/391 [==============================] - 6s 14ms/step - loss: 2.6588 - accuracy: 0.3267 - val_loss: 2.5003 - val_accuracy: 0.3658\n",
            "Epoch 5/5\n",
            "391/391 [==============================] - 6s 16ms/step - loss: 2.4794 - accuracy: 0.3599 - val_loss: 2.3560 - val_accuracy: 0.3976\n"
          ]
        }
      ]
    },
    {
      "cell_type": "markdown",
      "source": [
        "### Задание 1.8. Пойстройте график обучения для каждой модели. Сделайте выводы по каждому из них. Подведите итог и выделите наиболее удачную модель:"
      ],
      "metadata": {
        "id": "Y7QF9bQh72eV"
      }
    },
    {
      "cell_type": "code",
      "source": [
        "plt.plot(model_1_history.history['accuracy'])\n",
        "plt.plot(model_2_history.history['accuracy'])\n",
        "plt.plot(model_3_history.history['accuracy'])\n",
        "plt.plot(model_4_history.history['accuracy'])\n",
        "plt.title('Model Accuracy')\n",
        "plt.ylabel('Accuracy')\n",
        "plt.xlabel('Epoch')\n",
        "plt.legend(['Model Training','Model with Batch Normalization Training',\n",
        "            'Model with Dropout Training', 'Model with Batch Normalization and Dropout Training'],\n",
        "           loc='center right')"
      ],
      "metadata": {
        "id": "HvqpPVoV72te",
        "outputId": "4359251f-cca8-49b3-a70c-78bcbcac9843",
        "colab": {
          "base_uri": "https://localhost:8080/",
          "height": 490
        }
      },
      "execution_count": 29,
      "outputs": [
        {
          "output_type": "execute_result",
          "data": {
            "text/plain": [
              "<matplotlib.legend.Legend at 0x7c6060f58160>"
            ]
          },
          "metadata": {},
          "execution_count": 29
        },
        {
          "output_type": "display_data",
          "data": {
            "text/plain": [
              "<Figure size 640x480 with 1 Axes>"
            ],
            "image/png": "[encoded data removed]"
          },
          "metadata": {}
        }
      ]
    },
    {
      "cell_type": "markdown",
      "source": [
        "Ваши выводы"
      ],
      "metadata": {
        "id": "Ogg1lwqm9jKe"
      }
    },
    {
      "cell_type": "markdown",
      "source": [
        "Ваш итог"
      ],
      "metadata": {
        "id": "N9mdlVQc9jUb"
      }
    },
    {
      "cell_type": "markdown",
      "source": [
        "### 1.9. Визуализируйте карты активации модели с BatchNorm() и Dropout(),отдельно по 5 классам (на Ваш выбор):"
      ],
      "metadata": {
        "id": "8PN3DsVguRHI"
      }
    },
    {
      "cell_type": "code",
      "source": [
        "# Ваш код #"
      ],
      "metadata": {
        "id": "yCwQ2fJkuemW"
      },
      "execution_count": null,
      "outputs": []
    },
    {
      "cell_type": "markdown",
      "source": [
        "## Задание 2. Загрузите Ваш датасет из предыдущей работы. Разделите его на обучающую и тестовую выборки. Обучите модель классификации с применением BatchNorm() и Dropout(). Сравните точность с моделями, обученными Вами ранее. Визуализируйте карты активаций."
      ],
      "metadata": {
        "id": "3hv4EOlgt4If"
      }
    },
    {
      "cell_type": "code",
      "source": [
        "# Ваш код #"
      ],
      "metadata": {
        "id": "3crPARhluPQ6"
      },
      "execution_count": null,
      "outputs": []
    }
  ]
}